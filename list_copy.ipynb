{
 "cells": [
  {
   "cell_type": "code",
   "execution_count": 1,
   "metadata": {},
   "outputs": [
    {
     "name": "stdout",
     "output_type": "stream",
     "text": [
      "[2704, 148877, 166375, 3136, 3364, 205379, 226981, 3844, 4096, 274625, 300763, 4624, 4900, 357911, 389017, 5476, 5776, 456533, 493039, 6400, 6724, 571787, 614125, 7396, 7744, 704969, 753571, 8464, 8836, 857375, 912673, 9604, 10000]\n"
     ]
    }
   ],
   "source": [
    "print [x**2 if not x%2 else x**3 for x in range(51,101) if x%3]"
   ]
  },
  {
   "cell_type": "code",
   "execution_count": 2,
   "metadata": {},
   "outputs": [
    {
     "name": "stdout",
     "output_type": "stream",
     "text": [
      "[[4, 5], [1, 2]]\n"
     ]
    }
   ],
   "source": [
    "a = [[1,2,3], [4,5], [1,2], [2,3,4]]\n",
    "print [x for x in a if not len(x)%2]"
   ]
  },
  {
   "cell_type": "code",
   "execution_count": 3,
   "metadata": {},
   "outputs": [
    {
     "name": "stdout",
     "output_type": "stream",
     "text": [
      "[1, 2, 3, 4, 5, 1, 2, 2, 3, 4]\n"
     ]
    }
   ],
   "source": [
    "print [d for x in a for d in x]"
   ]
  },
  {
   "cell_type": "code",
   "execution_count": 5,
   "metadata": {},
   "outputs": [
    {
     "name": "stdout",
     "output_type": "stream",
     "text": [
      "[51, 140608, 2809, 54, 3025, 175616, 57, 195112, 3481, 60, 3721, 238328, 63, 262144, 4225, 66, 4489, 314432, 69, 343000, 5041, 72, 5329, 405224, 75, 438976, 5929, 78, 6241, 512000, 81, 551368, 6889, 84, 7225, 636056, 87, 681472, 7921, 90, 8281, 778688, 93, 830584, 9025, 96, 9409, 941192, 99]\n"
     ]
    }
   ],
   "source": [
    "print [x if not x%3 else x**2 if x%2 else x**3 for x in range(51, 100)]"
   ]
  },
  {
   "cell_type": "code",
   "execution_count": 6,
   "metadata": {},
   "outputs": [
    {
     "name": "stdout",
     "output_type": "stream",
     "text": [
      "python\n"
     ]
    }
   ],
   "source": [
    "b = 5\n",
    "print \"5\" if b>5 else \"51\" if b<5 else \"python\" "
   ]
  },
  {
   "cell_type": "code",
   "execution_count": 7,
   "metadata": {},
   "outputs": [
    {
     "name": "stdout",
     "output_type": "stream",
     "text": [
      "[[1, 2, 3], [4, 5], [1, 2], [2, 3, 4]]\n"
     ]
    }
   ],
   "source": [
    "print a\n"
   ]
  },
  {
   "cell_type": "code",
   "execution_count": 8,
   "metadata": {},
   "outputs": [
    {
     "name": "stdout",
     "output_type": "stream",
     "text": [
      "[1, 2, 3]\n",
      "3\n"
     ]
    }
   ],
   "source": [
    "print a[0]\n",
    "print a[0][-1]"
   ]
  },
  {
   "cell_type": "code",
   "execution_count": 9,
   "metadata": {},
   "outputs": [
    {
     "name": "stdout",
     "output_type": "stream",
     "text": [
      "[4, 5, 6, 10]\n",
      "[4, 5, 6, 10]\n"
     ]
    }
   ],
   "source": [
    "a = [4,5,6,7]\n",
    "b = a\n",
    "b[-1] = 10\n",
    "print a\n",
    "print b"
   ]
  },
  {
   "cell_type": "code",
   "execution_count": 10,
   "metadata": {},
   "outputs": [
    {
     "name": "stdout",
     "output_type": "stream",
     "text": [
      "[4, 5, 15, 10]\n"
     ]
    }
   ],
   "source": [
    "a[2] = 15\n",
    "print b"
   ]
  },
  {
   "cell_type": "code",
   "execution_count": 11,
   "metadata": {},
   "outputs": [
    {
     "name": "stdout",
     "output_type": "stream",
     "text": [
      "59784408\n",
      "59784408\n"
     ]
    }
   ],
   "source": [
    "print id(a)\n",
    "print id(b)"
   ]
  },
  {
   "cell_type": "code",
   "execution_count": null,
   "metadata": {
    "collapsed": true
   },
   "outputs": [],
   "source": []
  }
 ],
 "metadata": {
  "kernelspec": {
   "display_name": "Python 2",
   "language": "python",
   "name": "python2"
  },
  "language_info": {
   "codemirror_mode": {
    "name": "ipython",
    "version": 2
   },
   "file_extension": ".py",
   "mimetype": "text/x-python",
   "name": "python",
   "nbconvert_exporter": "python",
   "pygments_lexer": "ipython2",
   "version": "2.7.13"
  }
 },
 "nbformat": 4,
 "nbformat_minor": 2
}
