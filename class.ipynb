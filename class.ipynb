{
 "cells": [
  {
   "cell_type": "code",
   "execution_count": 4,
   "metadata": {},
   "outputs": [
    {
     "name": "stdout",
     "output_type": "stream",
     "text": [
      "5\n",
      "6\n"
     ]
    }
   ],
   "source": [
    "a = 5\n",
    "def myfun():\n",
    "    global a\n",
    "    print a\n",
    "    a = 6\n",
    "myfun()\n",
    "print a"
   ]
  },
  {
   "cell_type": "code",
   "execution_count": 5,
   "metadata": {},
   "outputs": [
    {
     "ename": "SyntaxError",
     "evalue": "name 'a' is local and global (<ipython-input-5-3c6b8c6c9f20>, line 2)",
     "output_type": "error",
     "traceback": [
      "\u001b[1;36m  File \u001b[1;32m\"<ipython-input-5-3c6b8c6c9f20>\"\u001b[1;36m, line \u001b[1;32m2\u001b[0m\n\u001b[1;33m    def myfun(a):\u001b[0m\n\u001b[1;31mSyntaxError\u001b[0m\u001b[1;31m:\u001b[0m name 'a' is local and global\n"
     ]
    }
   ],
   "source": [
    "a = 5\n",
    "def myfun(a):\n",
    "    global a\n",
    "    print a\n",
    "    a = 6\n",
    "myfun(10)\n",
    "print a"
   ]
  },
  {
   "cell_type": "code",
   "execution_count": 14,
   "metadata": {},
   "outputs": [
    {
     "name": "stdout",
     "output_type": "stream",
     "text": [
      "<__main__.Myclass instance at 0x0254B1C0>\n",
      "<__main__.Myclass instance at 0x0254B1C0>\n",
      "<__main__.Myclass instance at 0x0254B1C0>\n",
      "<__main__.Myclass instance at 0x03A05170>\n",
      "<__main__.Myclass instance at 0x03A05170>\n",
      "<__main__.Myclass instance at 0x03A05170>\n"
     ]
    }
   ],
   "source": [
    "class Myclass():\n",
    "    a = 5\n",
    "    b = 10\n",
    "    def __init__(self, c, d):\n",
    "        print self\n",
    "        self.c = c\n",
    "        self.d = d\n",
    "    def myfun(self):\n",
    "        print self\n",
    "obj = Myclass(15, 30)\n",
    "print obj\n",
    "obj.myfun()\n",
    "obj1 = Myclass(15, 30)\n",
    "print obj1\n",
    "obj1.myfun()"
   ]
  },
  {
   "cell_type": "code",
   "execution_count": 9,
   "metadata": {},
   "outputs": [
    {
     "name": "stdout",
     "output_type": "stream",
     "text": [
      "<__main__.Myclass instance at 0x039EF238>\n"
     ]
    }
   ],
   "source": [
    "class Myclass():\n",
    "    a = 5\n",
    "    b = 10\n",
    "obj = Myclass()\n",
    "print obj"
   ]
  },
  {
   "cell_type": "code",
   "execution_count": null,
   "metadata": {
    "collapsed": true
   },
   "outputs": [],
   "source": []
  }
 ],
 "metadata": {
  "kernelspec": {
   "display_name": "Python 2",
   "language": "python",
   "name": "python2"
  },
  "language_info": {
   "codemirror_mode": {
    "name": "ipython",
    "version": 2
   },
   "file_extension": ".py",
   "mimetype": "text/x-python",
   "name": "python",
   "nbconvert_exporter": "python",
   "pygments_lexer": "ipython2",
   "version": "2.7.13"
  }
 },
 "nbformat": 4,
 "nbformat_minor": 2
}
