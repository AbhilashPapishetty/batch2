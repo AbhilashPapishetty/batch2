{
 "cells": [
  {
   "cell_type": "code",
   "execution_count": 2,
   "metadata": {},
   "outputs": [
    {
     "name": "stdout",
     "output_type": "stream",
     "text": [
      "4\n"
     ]
    }
   ],
   "source": [
    "a = [2,3,4,3,3]\n",
    "index = -1\n",
    "c = -1\n",
    "for x in a:\n",
    "    c+=1\n",
    "    if x == 3:\n",
    "        index = c\n",
    "print index"
   ]
  },
  {
   "cell_type": "code",
   "execution_count": 3,
   "metadata": {},
   "outputs": [
    {
     "name": "stdout",
     "output_type": "stream",
     "text": [
      "4\n"
     ]
    }
   ],
   "source": [
    "for x in range(len(a)):\n",
    "    if a[x] == 3:\n",
    "        index = x\n",
    "print index"
   ]
  },
  {
   "cell_type": "code",
   "execution_count": 4,
   "metadata": {},
   "outputs": [
    {
     "name": "stdout",
     "output_type": "stream",
     "text": [
      "[125000000, 128787625, 132651000, 136590875, 140608000, 144703125, 148877000, 153130375, 157464000, 161878625, 166375000, 170953875, 175616000, 180362125, 185193000, 190109375, 195112000, 200201625, 205379000, 210644875, 216000000, 221445125, 226981000, 232608375, 238328000, 244140625, 250047000, 256047875, 262144000, 268336125, 274625000, 281011375, 287496000, 294079625, 300763000, 307546875, 314432000, 321419125, 328509000, 335702375, 343000000]\n"
     ]
    }
   ],
   "source": [
    "print [x**3 for x in range(500, 701, 5)]"
   ]
  },
  {
   "cell_type": "code",
   "execution_count": 5,
   "metadata": {},
   "outputs": [
    {
     "name": "stdout",
     "output_type": "stream",
     "text": [
      "[125000000, 128787625, 132651000, 136590875, 140608000, 144703125, 148877000, 153130375, 157464000, 161878625, 166375000, 170953875, 175616000, 180362125, 185193000, 190109375, 195112000, 200201625, 205379000, 210644875, 216000000, 221445125, 226981000, 232608375, 238328000, 244140625, 250047000, 256047875, 262144000, 268336125, 274625000, 281011375, 287496000, 294079625, 300763000, 307546875, 314432000, 321419125, 328509000, 335702375, 343000000]\n"
     ]
    }
   ],
   "source": [
    "print [x**3 for x in range(500, 701) if not x%5]"
   ]
  },
  {
   "cell_type": "code",
   "execution_count": 6,
   "metadata": {},
   "outputs": [
    {
     "name": "stdout",
     "output_type": "stream",
     "text": [
      "positive\n"
     ]
    }
   ],
   "source": [
    "# value1/statement1 if condition else value2/statement2\n",
    "a = -1\n",
    "print \"positive\" if a < 0 else \"negative\""
   ]
  },
  {
   "cell_type": "code",
   "execution_count": 7,
   "metadata": {},
   "outputs": [
    {
     "name": "stdout",
     "output_type": "stream",
     "text": [
      "positive\n"
     ]
    }
   ],
   "source": [
    "b = \"positive\" if a < 0 else \"negative\"\n",
    "print b"
   ]
  },
  {
   "cell_type": "code",
   "execution_count": 8,
   "metadata": {},
   "outputs": [
    {
     "name": "stdout",
     "output_type": "stream",
     "text": [
      "[4, 27, 125, 343, 16, 64, 729, 100, 144, 196]\n"
     ]
    }
   ],
   "source": [
    "a = [2,3,5,7,4,8,9,10,12,14]\n",
    "print [x**3 if x%2 else x**2 for x in a]"
   ]
  },
  {
   "cell_type": "code",
   "execution_count": 9,
   "metadata": {
    "collapsed": true
   },
   "outputs": [],
   "source": [
    "#51 52"
   ]
  },
  {
   "cell_type": "code",
   "execution_count": 10,
   "metadata": {},
   "outputs": [
    {
     "name": "stdout",
     "output_type": "stream",
     "text": [
      "[5, 6, 7, 6, 7, 8, 7, 8, 9]\n"
     ]
    }
   ],
   "source": [
    "a  = [4,5,6]\n",
    "b = [1,2,3]\n",
    "print [x+y for x in a for y in b]"
   ]
  },
  {
   "cell_type": "code",
   "execution_count": 11,
   "metadata": {},
   "outputs": [
    {
     "name": "stdout",
     "output_type": "stream",
     "text": [
      "[5, 6, 7, 6, 7, 8, 7, 8, 9]\n"
     ]
    }
   ],
   "source": [
    "c = []\n",
    "for x in a:\n",
    "    for y in b:\n",
    "        c.append(x+y)\n",
    "print c"
   ]
  },
  {
   "cell_type": "code",
   "execution_count": 12,
   "metadata": {},
   "outputs": [
    {
     "name": "stdout",
     "output_type": "stream",
     "text": [
      "in outer\n",
      "in outer\n",
      "in outer\n",
      "[5, 6, 7, 6, 7, 8, 7, 8, 9]\n"
     ]
    }
   ],
   "source": [
    "c = []\n",
    "for x in a:\n",
    "    for y in b:\n",
    "        c.append(x+y)\n",
    "    print \"in outer\"\n",
    "print c"
   ]
  },
  {
   "cell_type": "code",
   "execution_count": 14,
   "metadata": {},
   "outputs": [
    {
     "name": "stdout",
     "output_type": "stream",
     "text": [
      "[4, 5, 6]\n",
      "[1, 2, 3]\n",
      "[[5, 6, 7], [6, 7, 8], [7, 8, 9]]\n"
     ]
    }
   ],
   "source": [
    "print a\n",
    "print b\n",
    "d = [[x+y for y in b] for x in a]\n",
    "print d"
   ]
  },
  {
   "cell_type": "code",
   "execution_count": 15,
   "metadata": {
    "collapsed": true
   },
   "outputs": [],
   "source": [
    "b = [4, 8, 6]"
   ]
  },
  {
   "cell_type": "code",
   "execution_count": 16,
   "metadata": {},
   "outputs": [
    {
     "name": "stdout",
     "output_type": "stream",
     "text": [
      "[4, 5, 6]\n",
      "[4, 8, 6]\n"
     ]
    }
   ],
   "source": [
    "print a\n",
    "print b"
   ]
  },
  {
   "cell_type": "code",
   "execution_count": 19,
   "metadata": {
    "collapsed": true
   },
   "outputs": [],
   "source": [
    "d = [[x+y for y in b if not x==y] for x in a]"
   ]
  },
  {
   "cell_type": "code",
   "execution_count": 20,
   "metadata": {},
   "outputs": [
    {
     "name": "stdout",
     "output_type": "stream",
     "text": [
      "[[12, 10], [9, 13, 11], [10, 14]]\n"
     ]
    }
   ],
   "source": [
    "print d"
   ]
  },
  {
   "cell_type": "code",
   "execution_count": 21,
   "metadata": {},
   "outputs": [
    {
     "name": "stdout",
     "output_type": "stream",
     "text": [
      "[12, 10, 9, 13, 11, 10, 14]\n"
     ]
    }
   ],
   "source": [
    "print [x for y in d for x in y]"
   ]
  },
  {
   "cell_type": "code",
   "execution_count": null,
   "metadata": {
    "collapsed": true
   },
   "outputs": [],
   "source": []
  }
 ],
 "metadata": {
  "kernelspec": {
   "display_name": "Python 2",
   "language": "python",
   "name": "python2"
  },
  "language_info": {
   "codemirror_mode": {
    "name": "ipython",
    "version": 2
   },
   "file_extension": ".py",
   "mimetype": "text/x-python",
   "name": "python",
   "nbconvert_exporter": "python",
   "pygments_lexer": "ipython2",
   "version": "2.7.13"
  }
 },
 "nbformat": 4,
 "nbformat_minor": 2
}
