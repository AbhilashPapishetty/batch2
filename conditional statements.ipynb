{
 "cells": [
  {
   "cell_type": "code",
   "execution_count": 2,
   "metadata": {},
   "outputs": [
    {
     "name": "stdout",
     "output_type": "stream",
     "text": [
      "b is greater 20\n"
     ]
    }
   ],
   "source": [
    "a = 15\n",
    "b = 20\n",
    "c = 17\n",
    "if a>b and a>c:\n",
    "    print \"a is greater\",a\n",
    "elif b>a and b>c:\n",
    "    print \"b is greater\", b\n",
    "elif c>a and c>b:\n",
    "    print \"c is greater\", c"
   ]
  },
  {
   "cell_type": "code",
   "execution_count": 3,
   "metadata": {},
   "outputs": [
    {
     "name": "stdout",
     "output_type": "stream",
     "text": [
      "a and b are equal\n",
      "c is greater 17\n"
     ]
    }
   ],
   "source": [
    "a = 15\n",
    "b = 15\n",
    "c = 17\n",
    "if a==b:\n",
    "    print \"a and b are equal\"\n",
    "if a>b and a>c:\n",
    "    print \"a is greater\",a\n",
    "elif b>a and b>c:\n",
    "    print \"b is greater\", b\n",
    "elif c>a and c>b:\n",
    "    print \"c is greater\", c"
   ]
  },
  {
   "cell_type": "code",
   "execution_count": 4,
   "metadata": {},
   "outputs": [
    {
     "name": "stdout",
     "output_type": "stream",
     "text": [
      "b is greater 20\n"
     ]
    }
   ],
   "source": [
    "a = 15\n",
    "b = 20\n",
    "c = 17\n",
    "if a>b and a>c:\n",
    "    print \"a is greater\",a\n",
    "elif b>c:\n",
    "    print \"b is greater\", b\n",
    "else:\n",
    "    print \"c is greater\", c"
   ]
  },
  {
   "cell_type": "code",
   "execution_count": 5,
   "metadata": {},
   "outputs": [
    {
     "name": "stdout",
     "output_type": "stream",
     "text": [
      "c is greater 25\n"
     ]
    }
   ],
   "source": [
    "a = 15\n",
    "b = 20\n",
    "c = 25\n",
    "if a>b and a>c:\n",
    "    print \"a is greater\",a\n",
    "elif b>c:\n",
    "    print \"b is greater\", b\n",
    "else:\n",
    "    print \"c is greater\", c"
   ]
  },
  {
   "cell_type": "code",
   "execution_count": 6,
   "metadata": {},
   "outputs": [
    {
     "name": "stdout",
     "output_type": "stream",
     "text": [
      "a is greater 30\n"
     ]
    }
   ],
   "source": [
    "a = 30\n",
    "b = 20\n",
    "c = 25\n",
    "if a>b and a>c:\n",
    "    print \"a is greater\",a\n",
    "elif b>c:\n",
    "    print \"b is greater\", b\n",
    "else:\n",
    "    print \"c is greater\", c"
   ]
  },
  {
   "cell_type": "code",
   "execution_count": 7,
   "metadata": {},
   "outputs": [
    {
     "name": "stdout",
     "output_type": "stream",
     "text": [
      "a is greater 30\n"
     ]
    }
   ],
   "source": [
    "a = 30\n",
    "b = 20\n",
    "c = 20\n",
    "if a>b and a>c:\n",
    "    print \"a is greater\",a\n",
    "elif b==c:\n",
    "    print \"b is greater\", b\n",
    "else:\n",
    "    print \"c is greater\", c"
   ]
  },
  {
   "cell_type": "code",
   "execution_count": 8,
   "metadata": {},
   "outputs": [
    {
     "name": "stdout",
     "output_type": "stream",
     "text": [
      "enter a integer value5\n",
      "<type 'int'>\n"
     ]
    }
   ],
   "source": [
    "#input\n",
    "#raw_input\n",
    "a = input(\"enter a integer value\")\n",
    "print type(a)"
   ]
  },
  {
   "cell_type": "code",
   "execution_count": 9,
   "metadata": {},
   "outputs": [
    {
     "ename": "NameError",
     "evalue": "name 'x' is not defined",
     "output_type": "error",
     "traceback": [
      "\u001b[1;31m---------------------------------------------------------------------------\u001b[0m",
      "\u001b[1;31mNameError\u001b[0m                                 Traceback (most recent call last)",
      "\u001b[1;32m<ipython-input-9-2d264e11d975>\u001b[0m in \u001b[0;36m<module>\u001b[1;34m()\u001b[0m\n\u001b[1;32m----> 1\u001b[1;33m \u001b[1;32mprint\u001b[0m \u001b[0mx\u001b[0m\u001b[1;33m\u001b[0m\u001b[0m\n\u001b[0m",
      "\u001b[1;31mNameError\u001b[0m: name 'x' is not defined"
     ]
    }
   ],
   "source": [
    "print x"
   ]
  },
  {
   "cell_type": "code",
   "execution_count": 10,
   "metadata": {},
   "outputs": [
    {
     "name": "stdout",
     "output_type": "stream",
     "text": [
      "enter a float value5.5\n",
      "<type 'float'>\n"
     ]
    }
   ],
   "source": [
    "a = input(\"enter a float value\")\n",
    "print type(a)"
   ]
  },
  {
   "cell_type": "code",
   "execution_count": 1,
   "metadata": {},
   "outputs": [
    {
     "name": "stdout",
     "output_type": "stream",
     "text": [
      "enter a float value5\n",
      "<type 'int'>\n"
     ]
    }
   ],
   "source": [
    "a = input(\"enter a float value\")\n",
    "print type(a)"
   ]
  },
  {
   "cell_type": "code",
   "execution_count": 2,
   "metadata": {},
   "outputs": [
    {
     "name": "stdout",
     "output_type": "stream",
     "text": [
      "enter a valuepython\n"
     ]
    },
    {
     "ename": "NameError",
     "evalue": "name 'python' is not defined",
     "output_type": "error",
     "traceback": [
      "\u001b[1;31m---------------------------------------------------------------------------\u001b[0m",
      "\u001b[1;31mNameError\u001b[0m                                 Traceback (most recent call last)",
      "\u001b[1;32m<ipython-input-2-fe7132b2d5de>\u001b[0m in \u001b[0;36m<module>\u001b[1;34m()\u001b[0m\n\u001b[1;32m----> 1\u001b[1;33m \u001b[0ma\u001b[0m \u001b[1;33m=\u001b[0m \u001b[0minput\u001b[0m\u001b[1;33m(\u001b[0m\u001b[1;34m\"enter a value\"\u001b[0m\u001b[1;33m)\u001b[0m\u001b[1;33m\u001b[0m\u001b[0m\n\u001b[0m\u001b[0;32m      2\u001b[0m \u001b[1;32mprint\u001b[0m \u001b[0mtype\u001b[0m\u001b[1;33m(\u001b[0m\u001b[0ma\u001b[0m\u001b[1;33m)\u001b[0m\u001b[1;33m\u001b[0m\u001b[0m\n",
      "\u001b[1;32mc:\\python27\\lib\\site-packages\\ipykernel\\ipkernel.pyc\u001b[0m in \u001b[0;36m<lambda>\u001b[1;34m(prompt)\u001b[0m\n\u001b[0;32m    162\u001b[0m             \u001b[0mself\u001b[0m\u001b[1;33m.\u001b[0m\u001b[0m_sys_eval_input\u001b[0m \u001b[1;33m=\u001b[0m \u001b[0mbuiltin_mod\u001b[0m\u001b[1;33m.\u001b[0m\u001b[0minput\u001b[0m\u001b[1;33m\u001b[0m\u001b[0m\n\u001b[0;32m    163\u001b[0m             \u001b[0mbuiltin_mod\u001b[0m\u001b[1;33m.\u001b[0m\u001b[0mraw_input\u001b[0m \u001b[1;33m=\u001b[0m \u001b[0mself\u001b[0m\u001b[1;33m.\u001b[0m\u001b[0mraw_input\u001b[0m\u001b[1;33m\u001b[0m\u001b[0m\n\u001b[1;32m--> 164\u001b[1;33m             \u001b[0mbuiltin_mod\u001b[0m\u001b[1;33m.\u001b[0m\u001b[0minput\u001b[0m \u001b[1;33m=\u001b[0m \u001b[1;32mlambda\u001b[0m \u001b[0mprompt\u001b[0m\u001b[1;33m=\u001b[0m\u001b[1;34m''\u001b[0m\u001b[1;33m:\u001b[0m \u001b[0meval\u001b[0m\u001b[1;33m(\u001b[0m\u001b[0mself\u001b[0m\u001b[1;33m.\u001b[0m\u001b[0mraw_input\u001b[0m\u001b[1;33m(\u001b[0m\u001b[0mprompt\u001b[0m\u001b[1;33m)\u001b[0m\u001b[1;33m)\u001b[0m\u001b[1;33m\u001b[0m\u001b[0m\n\u001b[0m\u001b[0;32m    165\u001b[0m         \u001b[0mself\u001b[0m\u001b[1;33m.\u001b[0m\u001b[0m_save_getpass\u001b[0m \u001b[1;33m=\u001b[0m \u001b[0mgetpass\u001b[0m\u001b[1;33m.\u001b[0m\u001b[0mgetpass\u001b[0m\u001b[1;33m\u001b[0m\u001b[0m\n\u001b[0;32m    166\u001b[0m         \u001b[0mgetpass\u001b[0m\u001b[1;33m.\u001b[0m\u001b[0mgetpass\u001b[0m \u001b[1;33m=\u001b[0m \u001b[0mself\u001b[0m\u001b[1;33m.\u001b[0m\u001b[0mgetpass\u001b[0m\u001b[1;33m\u001b[0m\u001b[0m\n",
      "\u001b[1;32mc:\\python27\\lib\\site-packages\\ipykernel\\ipkernel.pyc\u001b[0m in \u001b[0;36m<module>\u001b[1;34m()\u001b[0m\n",
      "\u001b[1;31mNameError\u001b[0m: name 'python' is not defined"
     ]
    }
   ],
   "source": [
    "a = input(\"enter a value\")\n",
    "print type(a)"
   ]
  },
  {
   "cell_type": "code",
   "execution_count": 3,
   "metadata": {},
   "outputs": [
    {
     "name": "stdout",
     "output_type": "stream",
     "text": [
      "enter a value'python'\n",
      "<type 'str'>\n"
     ]
    }
   ],
   "source": [
    "a = input(\"enter a value\")\n",
    "print type(a)"
   ]
  },
  {
   "cell_type": "code",
   "execution_count": 5,
   "metadata": {},
   "outputs": [
    {
     "name": "stdout",
     "output_type": "stream",
     "text": [
      "enter a integer value55\n",
      "<type 'str'>\n",
      "55\n",
      "<type 'int'>\n"
     ]
    }
   ],
   "source": [
    "a = raw_input(\"enter a integer value\")\n",
    "print type(a)\n",
    "print a\n",
    "a = int(a)\n",
    "print type(a)"
   ]
  },
  {
   "cell_type": "code",
   "execution_count": 6,
   "metadata": {},
   "outputs": [
    {
     "name": "stdout",
     "output_type": "stream",
     "text": [
      "enter a integer valuepython\n",
      "<type 'str'>\n",
      "python\n"
     ]
    }
   ],
   "source": [
    "a = raw_input(\"enter a integer value\")\n",
    "print type(a)\n",
    "print a"
   ]
  },
  {
   "cell_type": "code",
   "execution_count": null,
   "metadata": {
    "collapsed": true
   },
   "outputs": [],
   "source": []
  }
 ],
 "metadata": {
  "kernelspec": {
   "display_name": "Python 2",
   "language": "python",
   "name": "python2"
  },
  "language_info": {
   "codemirror_mode": {
    "name": "ipython",
    "version": 2
   },
   "file_extension": ".py",
   "mimetype": "text/x-python",
   "name": "python",
   "nbconvert_exporter": "python",
   "pygments_lexer": "ipython2",
   "version": "2.7.13"
  }
 },
 "nbformat": 4,
 "nbformat_minor": 2
}
