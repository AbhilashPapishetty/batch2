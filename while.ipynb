{
 "cells": [
  {
   "cell_type": "code",
   "execution_count": 1,
   "metadata": {},
   "outputs": [
    {
     "name": "stdout",
     "output_type": "stream",
     "text": [
      "a is a prime number\n"
     ]
    }
   ],
   "source": [
    "a=41\n",
    "prime=True\n",
    "i=2\n",
    "while i<a:\n",
    "    if a%i == 0:\n",
    "        prime= False\n",
    "    i += 1\n",
    "if prime:\n",
    "    print (\"a is a prime number\")\n",
    "else:\n",
    "    print \"a is not a prime\"\n"
   ]
  },
  {
   "cell_type": "code",
   "execution_count": 5,
   "metadata": {},
   "outputs": [
    {
     "name": "stdout",
     "output_type": "stream",
     "text": [
      "2\n",
      "3\n",
      "a is not a prime\n"
     ]
    }
   ],
   "source": [
    "a=39\n",
    "prime=True\n",
    "i=2\n",
    "while i<a:\n",
    "    print i\n",
    "    if a%i == 0:\n",
    "        prime= False\n",
    "        #print i\n",
    "        break\n",
    "    i += 1\n",
    "if prime:\n",
    "    print (\"a is a prime number\")\n",
    "else:\n",
    "    print \"a is not a prime\"\n"
   ]
  },
  {
   "cell_type": "code",
   "execution_count": 6,
   "metadata": {},
   "outputs": [
    {
     "name": "stdout",
     "output_type": "stream",
     "text": [
      "2\n",
      "a is a prime number\n"
     ]
    }
   ],
   "source": [
    "a=39\n",
    "prime=True\n",
    "i=2\n",
    "while i<a:\n",
    "    print i\n",
    "    if a%i == 0:\n",
    "        prime= False\n",
    "        #print i\n",
    "    break\n",
    "    i += 1\n",
    "if prime:\n",
    "    print (\"a is a prime number\")\n",
    "else:\n",
    "    print \"a is not a prime\"\n"
   ]
  },
  {
   "cell_type": "code",
   "execution_count": 7,
   "metadata": {},
   "outputs": [
    {
     "name": "stdout",
     "output_type": "stream",
     "text": [
      "2\n",
      "3\n",
      "a is not a prime\n"
     ]
    }
   ],
   "source": [
    "a=39\n",
    "prime=True\n",
    "i=2\n",
    "while i<a:\n",
    "    print i\n",
    "    if not a%i:\n",
    "        prime= False\n",
    "        #print i\n",
    "        break\n",
    "    i += 1\n",
    "if prime:\n",
    "    print (\"a is a prime number\")\n",
    "else:\n",
    "    print \"a is not a prime\"\n"
   ]
  },
  {
   "cell_type": "code",
   "execution_count": null,
   "metadata": {
    "collapsed": true
   },
   "outputs": [],
   "source": []
  }
 ],
 "metadata": {
  "kernelspec": {
   "display_name": "Python 2",
   "language": "python",
   "name": "python2"
  },
  "language_info": {
   "codemirror_mode": {
    "name": "ipython",
    "version": 2
   },
   "file_extension": ".py",
   "mimetype": "text/x-python",
   "name": "python",
   "nbconvert_exporter": "python",
   "pygments_lexer": "ipython2",
   "version": "2.7.13"
  }
 },
 "nbformat": 4,
 "nbformat_minor": 2
}
