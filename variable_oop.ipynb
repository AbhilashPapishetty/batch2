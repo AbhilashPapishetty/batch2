{
 "cells": [
  {
   "cell_type": "code",
   "execution_count": 7,
   "metadata": {},
   "outputs": [
    {
     "name": "stdout",
     "output_type": "stream",
     "text": [
      "5 10 10 15\n",
      "5 10 20 25\n"
     ]
    }
   ],
   "source": [
    "class Myclass():\n",
    "    a = 5\n",
    "    b = 10\n",
    "    def __init__(self, c, d):\n",
    "        self.c = c\n",
    "        self.d = d\n",
    "obj1 = Myclass(10, 15)\n",
    "obj2 = Myclass(20, 25)\n",
    "print obj1.a,obj1.b,obj1.c,obj1.d\n",
    "print obj2.a,obj2.b,obj2.c,obj2.d"
   ]
  },
  {
   "cell_type": "code",
   "execution_count": 8,
   "metadata": {},
   "outputs": [
    {
     "name": "stdout",
     "output_type": "stream",
     "text": [
      "5 10 30 15\n",
      "5 10 20 25\n"
     ]
    }
   ],
   "source": [
    "obj1.c = 30\n",
    "print obj1.a,obj1.b,obj1.c,obj1.d\n",
    "print obj2.a,obj2.b,obj2.c,obj2.d"
   ]
  },
  {
   "cell_type": "code",
   "execution_count": 9,
   "metadata": {},
   "outputs": [
    {
     "name": "stdout",
     "output_type": "stream",
     "text": [
      "100 10 30 15\n",
      "100 10 20 25\n"
     ]
    }
   ],
   "source": [
    "Myclass.a = 100\n",
    "print obj1.a,obj1.b,obj1.c,obj1.d\n",
    "print obj2.a,obj2.b,obj2.c,obj2.d"
   ]
  },
  {
   "cell_type": "code",
   "execution_count": 10,
   "metadata": {},
   "outputs": [
    {
     "name": "stdout",
     "output_type": "stream",
     "text": [
      "200 10 30 15\n",
      "100 10 20 25\n"
     ]
    }
   ],
   "source": [
    "obj1.a = 200\n",
    "print obj1.a,obj1.b,obj1.c,obj1.d\n",
    "print obj2.a,obj2.b,obj2.c,obj2.d"
   ]
  },
  {
   "cell_type": "code",
   "execution_count": 11,
   "metadata": {},
   "outputs": [
    {
     "name": "stdout",
     "output_type": "stream",
     "text": [
      "100\n"
     ]
    }
   ],
   "source": [
    "print Myclass.a"
   ]
  },
  {
   "cell_type": "code",
   "execution_count": 12,
   "metadata": {},
   "outputs": [
    {
     "name": "stdout",
     "output_type": "stream",
     "text": [
      "100\n"
     ]
    }
   ],
   "source": [
    "obj3 = Myclass(40,50)\n",
    "print obj3.a"
   ]
  },
  {
   "cell_type": "code",
   "execution_count": 15,
   "metadata": {},
   "outputs": [
    {
     "name": "stdout",
     "output_type": "stream",
     "text": [
      "<__main__.Myclass instance at 0x038E0FD0>\n",
      "<__main__.Myclass instance at 0x038E0FD0>\n"
     ]
    }
   ],
   "source": [
    "class Myclass():\n",
    "    def __init__(self):\n",
    "        print self\n",
    "    def myfun(obj_name):\n",
    "        print obj_name\n",
    "obj = Myclass()\n",
    "obj.myfun()"
   ]
  },
  {
   "cell_type": "code",
   "execution_count": 19,
   "metadata": {},
   "outputs": [
    {
     "name": "stdout",
     "output_type": "stream",
     "text": [
      "<__main__.Myclass instance at 0x038ED2B0>\n",
      "returning from fun2\n",
      "<__main__.Myclass instance at 0x038ED2B0>\n"
     ]
    }
   ],
   "source": [
    "class Myclass():\n",
    "    def __init__(self):\n",
    "        print self\n",
    "    def myfun(self):\n",
    "        return self.fun2()\n",
    "    def fun2(self):\n",
    "        return \"returning from fun2\"\n",
    "obj = Myclass()\n",
    "print obj.myfun()\n",
    "print obj"
   ]
  },
  {
   "cell_type": "code",
   "execution_count": 20,
   "metadata": {},
   "outputs": [
    {
     "name": "stdout",
     "output_type": "stream",
     "text": [
      "5/8\n"
     ]
    }
   ],
   "source": [
    "class Fraction():\n",
    "    def __init__(self, num, denom):\n",
    "        self.num = num\n",
    "        self.denom = denom\n",
    "    def display(self):\n",
    "        return str(self.num)+\"/\"+str(self.denom)\n",
    "f = Fraction(5, 8)\n",
    "print f.display()"
   ]
  },
  {
   "cell_type": "code",
   "execution_count": 1,
   "metadata": {},
   "outputs": [
    {
     "name": "stdout",
     "output_type": "stream",
     "text": [
      "5/8\n"
     ]
    }
   ],
   "source": [
    "class Fraction():\n",
    "    def __init__(self, num, denom):\n",
    "        self.num = num\n",
    "        self.denom = denom\n",
    "    def __str__(self):\n",
    "        return str(self.num)+\"/\"+str(self.denom)\n",
    "f = Fraction(5, 8)\n",
    "print f"
   ]
  },
  {
   "cell_type": "code",
   "execution_count": 3,
   "metadata": {},
   "outputs": [
    {
     "name": "stdout",
     "output_type": "stream",
     "text": [
      "136/128\n"
     ]
    }
   ],
   "source": [
    "class Fraction():\n",
    "    def __init__(self, num, denom):\n",
    "        self.num = num\n",
    "        self.denom = denom\n",
    "    def __str__(self):\n",
    "        return str(self.num)+\"/\"+str(self.denom)\n",
    "    def addi(self, sec):\n",
    "        denom = self.denom*sec.denom\n",
    "        num = (self.num*sec.denom)+(self.denom*sec.num)\n",
    "        return str(num)+\"/\"+str(denom)\n",
    "        \n",
    "f = Fraction(5, 8)\n",
    "f1 = Fraction(7, 16)\n",
    "print f.addi(f1)\n",
    "#print f"
   ]
  },
  {
   "cell_type": "code",
   "execution_count": 4,
   "metadata": {},
   "outputs": [
    {
     "name": "stdout",
     "output_type": "stream",
     "text": [
      "136/128\n"
     ]
    }
   ],
   "source": [
    "class Fraction():\n",
    "    def __init__(self, num, denom):\n",
    "        self.num = num\n",
    "        self.denom = denom\n",
    "    def __str__(self):\n",
    "        return str(self.num)+\"/\"+str(self.denom)\n",
    "    def __add__(self, sec):\n",
    "        denom = self.denom*sec.denom\n",
    "        num = (self.num*sec.denom)+(self.denom*sec.num)\n",
    "        return str(num)+\"/\"+str(denom)\n",
    "        \n",
    "f = Fraction(5, 8)\n",
    "f1 = Fraction(7, 16)\n",
    "print f+f1\n",
    "#print f"
   ]
  },
  {
   "cell_type": "code",
   "execution_count": null,
   "metadata": {
    "collapsed": true
   },
   "outputs": [],
   "source": []
  }
 ],
 "metadata": {
  "kernelspec": {
   "display_name": "Python 2",
   "language": "python",
   "name": "python2"
  },
  "language_info": {
   "codemirror_mode": {
    "name": "ipython",
    "version": 2
   },
   "file_extension": ".py",
   "mimetype": "text/x-python",
   "name": "python",
   "nbconvert_exporter": "python",
   "pygments_lexer": "ipython2",
   "version": "2.7.13"
  }
 },
 "nbformat": 4,
 "nbformat_minor": 2
}
