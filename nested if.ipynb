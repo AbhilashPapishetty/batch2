{
 "cells": [
  {
   "cell_type": "code",
   "execution_count": 4,
   "metadata": {},
   "outputs": [
    {
     "name": "stdout",
     "output_type": "stream",
     "text": [
      "b is not greater than c 13 12\n"
     ]
    }
   ],
   "source": [
    "a = 15\n",
    "b = 13\n",
    "c = 12\n",
    "if b>c:\n",
    "    if b>a:\n",
    "        print \"b is greater than c \", b, c\n",
    "    else:\n",
    "        print \"b is not greater than c\",b, c \n",
    "elif b>c:\n",
    "    print \"b is greater\", b\n",
    "else:\n",
    "    print \"c is greater\", c"
   ]
  },
  {
   "cell_type": "code",
   "execution_count": 5,
   "metadata": {},
   "outputs": [
    {
     "name": "stdout",
     "output_type": "stream",
     "text": [
      "1\n",
      "2\n",
      "3\n",
      "4\n",
      "5\n",
      "6\n",
      "7\n",
      "8\n",
      "9\n"
     ]
    }
   ],
   "source": [
    "a = 1\n",
    "while a<10:\n",
    "    print a\n",
    "    a += 1"
   ]
  },
  {
   "cell_type": "code",
   "execution_count": 10,
   "metadata": {},
   "outputs": [
    {
     "name": "stdout",
     "output_type": "stream",
     "text": [
      "0 1 1 2 3 5 8\n"
     ]
    }
   ],
   "source": [
    "a = 0\n",
    "b = 1\n",
    "print a,\n",
    "while b < 10:\n",
    "    print b,\n",
    "    a,b = b,a+b\n"
   ]
  },
  {
   "cell_type": "code",
   "execution_count": null,
   "metadata": {
    "collapsed": true
   },
   "outputs": [],
   "source": []
  }
 ],
 "metadata": {
  "kernelspec": {
   "display_name": "Python 2",
   "language": "python",
   "name": "python2"
  },
  "language_info": {
   "codemirror_mode": {
    "name": "ipython",
    "version": 2
   },
   "file_extension": ".py",
   "mimetype": "text/x-python",
   "name": "python",
   "nbconvert_exporter": "python",
   "pygments_lexer": "ipython2",
   "version": "2.7.13"
  }
 },
 "nbformat": 4,
 "nbformat_minor": 2
}
