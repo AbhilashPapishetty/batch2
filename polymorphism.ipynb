{
 "cells": [
  {
   "cell_type": "code",
   "execution_count": 1,
   "metadata": {
    "collapsed": true
   },
   "outputs": [],
   "source": [
    "#overriding and over loading\n",
    "def add(a,b):\n",
    "    return a+b\n",
    "\n",
    "def add(a,b,c):\n",
    "    return a+b+c\n",
    "#python doesn't support overloading"
   ]
  },
  {
   "cell_type": "code",
   "execution_count": 2,
   "metadata": {},
   "outputs": [
    {
     "ename": "TypeError",
     "evalue": "fun() takes exactly 2 arguments (1 given)",
     "output_type": "error",
     "traceback": [
      "\u001b[1;31m--------------------------------------------------------------\u001b[0m",
      "\u001b[1;31mTypeError\u001b[0m                    Traceback (most recent call last)",
      "\u001b[1;32m<ipython-input-2-c57d186673b2>\u001b[0m in \u001b[0;36m<module>\u001b[1;34m()\u001b[0m\n\u001b[0;32m      5\u001b[0m         \u001b[1;32mreturn\u001b[0m \u001b[1;34m\"fun with arguments\"\u001b[0m\u001b[1;33m\u001b[0m\u001b[0m\n\u001b[0;32m      6\u001b[0m \u001b[0mo\u001b[0m \u001b[1;33m=\u001b[0m \u001b[0mMyclass\u001b[0m\u001b[1;33m(\u001b[0m\u001b[1;33m)\u001b[0m\u001b[1;33m\u001b[0m\u001b[0m\n\u001b[1;32m----> 7\u001b[1;33m \u001b[1;32mprint\u001b[0m \u001b[0mo\u001b[0m\u001b[1;33m.\u001b[0m\u001b[0mfun\u001b[0m\u001b[1;33m(\u001b[0m\u001b[1;33m)\u001b[0m\u001b[1;33m\u001b[0m\u001b[0m\n\u001b[0m",
      "\u001b[1;31mTypeError\u001b[0m: fun() takes exactly 2 arguments (1 given)"
     ]
    }
   ],
   "source": [
    "class Myclass():\n",
    "    def fun(self):\n",
    "        return \"fun without arguments\"\n",
    "    def fun(self, a):\n",
    "        return \"fun with arguments\"\n",
    "o = Myclass()\n",
    "print o.fun()"
   ]
  },
  {
   "cell_type": "code",
   "execution_count": 3,
   "metadata": {},
   "outputs": [
    {
     "name": "stdout",
     "output_type": "stream",
     "text": [
      "fun with arguments\n"
     ]
    }
   ],
   "source": [
    "class Myclass():\n",
    "    def fun(self):\n",
    "        return \"fun without arguments\"\n",
    "    def fun(self, a):\n",
    "        return \"fun with arguments\"\n",
    "o = Myclass()\n",
    "print o.fun(3)"
   ]
  },
  {
   "cell_type": "code",
   "execution_count": 4,
   "metadata": {},
   "outputs": [
    {
     "name": "stdout",
     "output_type": "stream",
     "text": [
      "fun with arguments\n"
     ]
    }
   ],
   "source": [
    "class Myclass():\n",
    "    def fun(self, *a):\n",
    "        if not a:\n",
    "            return \"fun without arguments\"\n",
    "        return \"fun with arguments\"\n",
    "o = Myclass()\n",
    "print o.fun(3)"
   ]
  },
  {
   "cell_type": "code",
   "execution_count": 5,
   "metadata": {},
   "outputs": [
    {
     "name": "stdout",
     "output_type": "stream",
     "text": [
      "fun without arguments\n"
     ]
    }
   ],
   "source": [
    "class Myclass():\n",
    "    def fun(self, *a):\n",
    "        if not a:\n",
    "            return \"fun without arguments\"\n",
    "        return \"fun with arguments\"\n",
    "o = Myclass()\n",
    "print o.fun()"
   ]
  },
  {
   "cell_type": "code",
   "execution_count": 6,
   "metadata": {},
   "outputs": [
    {
     "name": "stdout",
     "output_type": "stream",
     "text": [
      "10\n",
      "15\n"
     ]
    }
   ],
   "source": [
    "class Myclass():\n",
    "    def fun(self, a, b=5):\n",
    "        return a+b\n",
    "o = Myclass()\n",
    "print o.fun(5)\n",
    "print o.fun(5, 10)"
   ]
  },
  {
   "cell_type": "code",
   "execution_count": 8,
   "metadata": {},
   "outputs": [
    {
     "name": "stdout",
     "output_type": "stream",
     "text": [
      "calculating interest  @ 4%\n",
      "('depositing the amount', 5000)\n"
     ]
    }
   ],
   "source": [
    "class Account():\n",
    "    def deposit(self, amount):\n",
    "        return \"depositing the amount\", amount\n",
    "    def withdrawl(self, amount):\n",
    "        return \"withdrawling the amount\", amount\n",
    "    def interest(self):\n",
    "        return \"calculating interest  @ 1%\"\n",
    "class SavingAccount(Account):\n",
    "    def interest(self):\n",
    "        return \"calculating interest  @ 4%\"\n",
    "S_a = SavingAccount()\n",
    "print S_a.interest()\n",
    "print S_a.deposit(5000)"
   ]
  },
  {
   "cell_type": "code",
   "execution_count": null,
   "metadata": {
    "collapsed": true
   },
   "outputs": [],
   "source": []
  }
 ],
 "metadata": {
  "kernelspec": {
   "display_name": "Python 2",
   "language": "python",
   "name": "python2"
  },
  "language_info": {
   "codemirror_mode": {
    "name": "ipython",
    "version": 2
   },
   "file_extension": ".py",
   "mimetype": "text/x-python",
   "name": "python",
   "nbconvert_exporter": "python",
   "pygments_lexer": "ipython2",
   "version": "2.7.13"
  }
 },
 "nbformat": 4,
 "nbformat_minor": 2
}
